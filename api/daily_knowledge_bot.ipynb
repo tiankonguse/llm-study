{
 "cells": [
  {
   "cell_type": "markdown",
   "metadata": {},
   "source": [
    "# Daily Knowledge Bot Tutorial\n",
    "\n",
    "## What You'll Learn\n",
    "\n",
    "- How to authenticate with the Perplexity API\n",
    "- How to structure API requests and handle responses\n",
    "- How to implement a simple topic rotation system\n",
    "- How to save results to files\n",
    "\n",
    "\n",
    "## Setting Up Your Environment\n",
    "\n",
    "\n"
   ]
  },
  {
   "cell_type": "code",
   "execution_count": 1,
   "metadata": {},
   "outputs": [],
   "source": [
    "import requests\n",
    "import json\n",
    "import os\n",
    "from datetime import datetime\n",
    "\n",
    "\n",
    "\n",
    "from dotenv import load_dotenv, find_dotenv\n",
    "_ = load_dotenv(find_dotenv())\n",
    "\n",
    "API_KEY  = os.getenv('OPENAI_API_KEY')"
   ]
  },
  {
   "cell_type": "markdown",
   "metadata": {},
   "source": [
    "## Creating the API Request Function\n",
    "\n",
    "Next, let's create a function that calls the Perplexity API to get an interesting fact about a given topic.\n",
    "\n"
   ]
  },
  {
   "cell_type": "code",
   "execution_count": 19,
   "metadata": {},
   "outputs": [],
   "source": [
    "def get_daily_fact(topic):\n",
    "    \"\"\"\n",
    "    Fetches an interesting fact about the given topic using Perplexity API.\n",
    "    \n",
    "    Args:\n",
    "        topic (str): The topic to get a fact about\n",
    "        \n",
    "    Returns:\n",
    "        str: An interesting fact about the topic\n",
    "    \"\"\"\n",
    "    # url = \"https://api.perplexity.ai/chat/completions\"\n",
    "    url = \"http://localhost:11434/api/chat\"\n",
    "    \n",
    "    headers = {\n",
    "        # \"Authorization\": f\"Bearer {API_KEY}\",\n",
    "        \"Content-Type\": \"application/json\"\n",
    "    }\n",
    "    \n",
    "    data = {\n",
    "        \"model\": \"llama3.2\",\n",
    "        \"messages\": [\n",
    "            {\n",
    "                \"role\": \"system\",\n",
    "                \"content\": \"You are a helpful assistant that provides interesting, accurate, and concise facts. Respond with only one fascinating fact, kept under 100 words.Please always answer in Chinese\"\n",
    "            },\n",
    "            {\n",
    "                \"role\": \"user\",\n",
    "                \"content\": f\"Tell me an interesting fact about {topic} that most people don't know.\"\n",
    "            }\n",
    "        ],\n",
    "        \"max_tokens\": 150,\n",
    "        \"temperature\": 0.7,\n",
    "        \"stream\": False,\n",
    "    }\n",
    "    \n",
    "    try:\n",
    "        # print(url, headers, data)\n",
    "        response = requests.post(url, headers=headers, json=data)\n",
    "        response.raise_for_status()  # Raise an exception for 4XX/5XX responses\n",
    "        result = response.json()\n",
    "        # print(result)\n",
    "        # return result[\"choices\"][0][\"message\"][\"content\"]\n",
    "        return result[\"message\"][\"content\"]\n",
    "    except requests.exceptions.RequestException as e:\n",
    "        return f\"Error making API request: {str(e)}\"\n",
    "    except (KeyError, IndexError) as e:\n",
    "        return f\"Error parsing API response: {str(e)}\"\n",
    "    except Exception as e:\n",
    "        return f\"Unexpected error: {str(e)}\""
   ]
  },
  {
   "cell_type": "markdown",
   "metadata": {},
   "source": [
    "Let's test the function with a sample topic"
   ]
  },
  {
   "cell_type": "code",
   "execution_count": 20,
   "metadata": {},
   "outputs": [
    {
     "name": "stdout",
     "output_type": "stream",
     "text": [
      "太空中的“星系”并非都是星星组成的天体，而是包含数十至数千个星星、行星和其他物质的巨大系统。例如，双子星座中的“M44”是由600多颗小星团组成的一大的星系。\n"
     ]
    }
   ],
   "source": [
    "# Try getting a fact about astronomy\n",
    "test_fact = get_daily_fact(\"astronomy\")\n",
    "print(test_fact)"
   ]
  },
  {
   "cell_type": "markdown",
   "metadata": {},
   "source": [
    "## Creating a File Saving Function\n",
    "\n",
    "Now, let's create a function to save our fact to a text file so we can keep a record of all the facts we've learned.\n",
    "\n"
   ]
  },
  {
   "cell_type": "code",
   "execution_count": 21,
   "metadata": {},
   "outputs": [],
   "source": [
    "\n",
    "def save_fact_to_file(topic, fact):\n",
    "    \"\"\"\n",
    "    Saves the fact to a text file with timestamp.\n",
    "    \n",
    "    Args:\n",
    "        topic (str): The topic of the fact\n",
    "        fact (str): The fact content\n",
    "        \n",
    "    Returns:\n",
    "        str: Path to the saved file\n",
    "    \"\"\"\n",
    "    timestamp = datetime.now().strftime(\"%Y-%m-%d\")\n",
    "    filename = f\"daily_fact_{timestamp}.txt\"\n",
    "    \n",
    "    with open(filename, \"w\") as f:\n",
    "        f.write(f\"DAILY FACT - {timestamp}\\n\")\n",
    "        f.write(f\"Topic: {topic}\\n\\n\")\n",
    "        f.write(fact)\n",
    "    \n",
    "    print(f\"Fact saved to {filename}\")\n",
    "    return filename"
   ]
  },
  {
   "cell_type": "markdown",
   "metadata": {},
   "source": [
    "Test saving a fact to a file"
   ]
  },
  {
   "cell_type": "code",
   "execution_count": 24,
   "metadata": {},
   "outputs": [
    {
     "name": "stdout",
     "output_type": "stream",
     "text": [
      "Fact saved to daily_fact_2025-03-24.txt\n",
      "DAILY FACT - 2025-03-24\n",
      "Topic: astronomy\n",
      "\n",
      "太空中的“星系”并非都是星星组成的天体，而是包含数十至数千个星星、行星和其他物质的巨大系统。例如，双子星座中的“M44”是由600多颗小星团组成的一大的星系。\n"
     ]
    }
   ],
   "source": [
    "\n",
    "# Test saving our astronomy fact\n",
    "saved_file = save_fact_to_file(\"astronomy\", test_fact)\n",
    "\n",
    "# Let's read the file to verify it worked\n",
    "with open(saved_file, 'r') as f:\n",
    "    print(f.read())"
   ]
  },
  {
   "cell_type": "markdown",
   "metadata": {},
   "source": [
    "## Creating the Topic Rotation Function\n",
    "\n",
    "We want our bot to provide facts on different topics. Let's create a function that selects a topic based on the current day of the month.\n",
    "\n"
   ]
  },
  {
   "cell_type": "code",
   "execution_count": 25,
   "metadata": {},
   "outputs": [
    {
     "name": "stdout",
     "output_type": "stream",
     "text": [
      "Today's topic is: genetics\n"
     ]
    }
   ],
   "source": [
    "def get_todays_topic():\n",
    "    \"\"\"\n",
    "    Selects a topic based on the current day of the month.\n",
    "    \n",
    "    Returns:\n",
    "        str: Today's selected topic\n",
    "    \"\"\"\n",
    "    topics = [\n",
    "        \"astronomy\", \n",
    "        \"history\", \n",
    "        \"biology\", \n",
    "        \"technology\", \n",
    "        \"psychology\",\n",
    "        \"ocean life\",\n",
    "        \"ancient civilizations\",\n",
    "        \"quantum physics\",\n",
    "        \"art history\",\n",
    "        \"culinary science\",\n",
    "        \"linguistics\",\n",
    "        \"architecture\",\n",
    "        \"mythology\",\n",
    "        \"mathematics\",\n",
    "        \"geography\",\n",
    "        \"music theory\",\n",
    "        \"cryptocurrency\",\n",
    "        \"neuroscience\",\n",
    "        \"climate science\",\n",
    "        \"space exploration\",\n",
    "        \"anthropology\",\n",
    "        \"philosophy\",\n",
    "        \"artificial intelligence\",\n",
    "        \"genetics\",\n",
    "        \"economics\",\n",
    "        \"literature\",\n",
    "        \"chemistry\",\n",
    "        \"geology\",\n",
    "        \"zoology\",\n",
    "        \"sustainable energy\",\n",
    "        \"robotics\"\n",
    "    ]\n",
    "    \n",
    "    # Get the current day of the month (1-31)\n",
    "    day = datetime.now().day\n",
    "    \n",
    "    # Use modulo to wrap around if we have more days than topics\n",
    "    topic_index = (day % len(topics)) - 1\n",
    "    if topic_index < 0:  # Handle the case where day % len(topics) = 0\n",
    "        topic_index = 0\n",
    "    \n",
    "    today_topic = topics[topic_index]\n",
    "    print(f\"Today's topic is: {today_topic}\")\n",
    "    return today_topic\n",
    "\n",
    "# Let's test it\n",
    "today_topic = get_todays_topic()"
   ]
  },
  {
   "cell_type": "markdown",
   "metadata": {},
   "source": [
    "## Putting It All Together\n",
    "\n",
    "Now, let's create our main function that combines all of these components.\n",
    "\n"
   ]
  },
  {
   "cell_type": "code",
   "execution_count": 26,
   "metadata": {},
   "outputs": [],
   "source": [
    "\n",
    "def run_daily_knowledge_bot():\n",
    "    \"\"\"\n",
    "    Main function that runs the daily knowledge bot.\n",
    "    Gets a fact about today's topic and saves it to a file.\n",
    "    \"\"\"\n",
    "    # Get today's topic\n",
    "    today_topic = get_todays_topic()\n",
    "    print(f\"Getting today's fact about: {today_topic}\")\n",
    "    \n",
    "    # Get the fact\n",
    "    fact = get_daily_fact(today_topic)\n",
    "    print(f\"\\nToday's {today_topic} fact: {fact}\")\n",
    "    \n",
    "    # Save the fact to a file\n",
    "    saved_file = save_fact_to_file(today_topic, fact)\n",
    "    \n",
    "    return {\n",
    "        \"topic\": today_topic,\n",
    "        \"fact\": fact,\n",
    "        \"file\": saved_file,\n",
    "        \"date\": datetime.now().strftime(\"%Y-%m-%d\")\n",
    "    }"
   ]
  },
  {
   "cell_type": "markdown",
   "metadata": {},
   "source": [
    "## Run the bot!"
   ]
  },
  {
   "cell_type": "code",
   "execution_count": 27,
   "metadata": {},
   "outputs": [
    {
     "name": "stdout",
     "output_type": "stream",
     "text": [
      "Today's topic is: genetics\n",
      "Getting today's fact about: genetics\n",
      "\n",
      "Today's genetics fact: 人类基因组中有约5%的基因被称为\"非编码基因\"，这意味着它们不编码任何蛋白质序列。这些基因通常参与调控基因表达、RNA加工和其他遗传过程，但其功能仍然不完全理解。例如，具有最多非编码基因的物种是细菌，已发现超过3000个非编码基因。\n",
      "Fact saved to daily_fact_2025-03-24.txt\n",
      "\n",
      "--------------------------------------------------\n",
      "DAILY KNOWLEDGE BOT RESULT\n",
      "--------------------------------------------------\n",
      "Date: 2025-03-24\n",
      "Topic: genetics\n",
      "Fact saved to: daily_fact_2025-03-24.txt\n",
      "--------------------------------------------------\n"
     ]
    }
   ],
   "source": [
    "# Run our daily knowledge bot\n",
    "result = run_daily_knowledge_bot()\n",
    "\n",
    "# Display the result in a more structured way\n",
    "print(\"\\n\" + \"-\"*50)\n",
    "print(\"DAILY KNOWLEDGE BOT RESULT\")\n",
    "print(\"-\"*50)\n",
    "print(f\"Date: {result['date']}\")\n",
    "print(f\"Topic: {result['topic']}\")\n",
    "print(f\"Fact saved to: {result['file']}\")\n",
    "print(\"-\"*50)"
   ]
  },
  {
   "cell_type": "markdown",
   "metadata": {},
   "source": [
    "## Advanced: Other Ways to Share the Daily Fact\n",
    "\n",
    "Saving to a file is just one way to store our facts. Here are some additional methods we could implement:\n",
    "\n"
   ]
  },
  {
   "cell_type": "markdown",
   "metadata": {},
   "source": [
    "### Email the daily fact\n",
    "\n",
    "Here's how you could send the fact via email using the smtplib library:\n",
    "\n"
   ]
  },
  {
   "cell_type": "code",
   "execution_count": 29,
   "metadata": {},
   "outputs": [],
   "source": [
    "def send_email(topic, fact, recipient):\n",
    "    \"\"\"\n",
    "    Sends the daily fact via email.\n",
    "    \n",
    "    Args:\n",
    "        topic (str): The topic of the fact\n",
    "        fact (str): The fact content\n",
    "        recipient (str): Email address to send to\n",
    "        \n",
    "    Note: This is just a template. You would need to fill in your SMTP server details.\n",
    "    \"\"\"\n",
    "    import smtplib\n",
    "    from email.mime.text import MIMEText\n",
    "    from email.mime.multipart import MIMEMultipart\n",
    "    \n",
    "    # Email details\n",
    "    sender_email = \"804345178@qq.com\"  # Update this\n",
    "    password = \"your_password\"  # Update this (consider using app passwords for security)\n",
    "    \n",
    "    # Create message\n",
    "    message = MIMEMultipart()\n",
    "    message[\"Subject\"] = f\"Daily Knowledge: {topic.capitalize()}\"\n",
    "    message[\"From\"] = sender_email\n",
    "    message[\"To\"] = recipient\n",
    "    \n",
    "    # Email body\n",
    "    current_date = datetime.now().strftime(\"%Y-%m-%d\")\n",
    "    email_content = f\"\"\"\n",
    "    \n",
    "    \n",
    "        Your Daily Interesting Fact - {current_date}\n",
    "        Topic: {topic.capitalize()}\n",
    "        {fact}\n",
    "        \n",
    "        Brought to you by Daily Knowledge Bot\n",
    "    \n",
    "    \n",
    "    \"\"\"\n",
    "    \n",
    "    message.attach(MIMEText(email_content, \"html\"))\n",
    "    \n",
    "    # Connect to server and send (commented out as this requires actual credentials)\n",
    "    \"\"\"\n",
    "    with smtplib.SMTP_SSL(\"smtp.example.com\", 465) as server:  # Update with your SMTP server\n",
    "        server.login(sender_email, password)\n",
    "        server.send_message(message)\n",
    "    print(f\"Email sent to {recipient}\")\n",
    "    \"\"\"\n",
    "    \n",
    "    # Since we're just displaying the concept, print what would be sent\n",
    "    print(f\"\\nWould send email to: {recipient}\")\n",
    "    print(f\"Subject: Daily Knowledge: {topic.capitalize()}\")\n",
    "    print(\"Content:\")\n",
    "    print(f\"Topic: {topic.capitalize()}\")\n",
    "    print(f\"Fact: {fact}\")"
   ]
  },
  {
   "cell_type": "markdown",
   "metadata": {},
   "source": [
    "## Save to a database\n",
    "\n",
    "If you wanted to build up a collection of facts over time, saving to a database would be ideal. Here's a simple example using SQLite:\n",
    "\n"
   ]
  },
  {
   "cell_type": "code",
   "execution_count": 30,
   "metadata": {},
   "outputs": [],
   "source": [
    "def save_to_database(topic, fact):\n",
    "    \"\"\"\n",
    "    Saves the fact to an SQLite database.\n",
    "    \n",
    "    Args:\n",
    "        topic (str): The topic of the fact\n",
    "        fact (str): The fact content\n",
    "    \"\"\"\n",
    "    import sqlite3\n",
    "    from datetime import datetime\n",
    "    \n",
    "    # Connect to database (creates it if it doesn't exist)\n",
    "    conn = sqlite3.connect(\"daily_facts.db\")\n",
    "    cursor = conn.cursor()\n",
    "    \n",
    "    # Create table if it doesn't exist\n",
    "    cursor.execute(\"\"\"\n",
    "    CREATE TABLE IF NOT EXISTS facts (\n",
    "        id INTEGER PRIMARY KEY AUTOINCREMENT,\n",
    "        date TEXT,\n",
    "        topic TEXT,\n",
    "        fact TEXT\n",
    "    )\n",
    "    \"\"\")\n",
    "    \n",
    "    # Insert the new fact\n",
    "    current_date = datetime.now().strftime(\"%Y-%m-%d\")\n",
    "    cursor.execute(\n",
    "        \"INSERT INTO facts (date, topic, fact) VALUES (?, ?, ?)\",\n",
    "        (current_date, topic, fact)\n",
    "    )\n",
    "    \n",
    "    # Commit and close\n",
    "    conn.commit()\n",
    "    conn.close()\n",
    "    \n",
    "    print(f\"Fact saved to database with topic '{topic}'\")"
   ]
  },
  {
   "cell_type": "markdown",
   "metadata": {},
   "source": [
    "测试数据库"
   ]
  },
  {
   "cell_type": "code",
   "execution_count": 31,
   "metadata": {},
   "outputs": [
    {
     "name": "stdout",
     "output_type": "stream",
     "text": [
      "Today's topic is: genetics\n",
      "Getting today's fact about: genetics\n",
      "\n",
      "Today's genetics fact: 遗传学中的一个有趣事实是：人体的基因组中，约60%的DNA分子并不是编码蛋白质序列，而是编码\"非编码\"RNA。这些RNA被称为ncRNA（非编码核糖体RNA），而它们在许多生物过程中起着至关重要的作用，例如调控基因表达、修复DNA损伤等。ncRNA的存在使我们了解到遗传学中的更广泛和复杂的机制。\n",
      "Fact saved to daily_fact_2025-03-24.txt\n",
      "Fact saved to database with topic 'genetics'\n"
     ]
    }
   ],
   "source": [
    "# Run our daily knowledge bot\n",
    "result = run_daily_knowledge_bot()\n",
    "\n",
    "save_to_database(result['topic'], result['fact'])\n"
   ]
  }
 ],
 "metadata": {
  "kernelspec": {
   "display_name": "llm-study",
   "language": "python",
   "name": "python3"
  },
  "language_info": {
   "codemirror_mode": {
    "name": "ipython",
    "version": 3
   },
   "file_extension": ".py",
   "mimetype": "text/x-python",
   "name": "python",
   "nbconvert_exporter": "python",
   "pygments_lexer": "ipython3",
   "version": "3.12.9"
  }
 },
 "nbformat": 4,
 "nbformat_minor": 2
}
