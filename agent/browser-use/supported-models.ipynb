{
 "cells": [
  {
   "cell_type": "markdown",
   "metadata": {},
   "source": [
    "# Supported Models\n",
    "\n",
    "Guide to using different LangChain chat models with Browser Use\n",
    "\n",
    "\n",
    "\n",
    "\n",
    "## Supported Models\n",
    "\n",
    "All LangChain chat models, which support tool-calling are available. \n",
    "\n",
    "总结：Browser Use 基于 LangChain 实现， LangChain 支持的模型，Browser Use 都支持。\n",
    "\n",
    "\n",
    "\n"
   ]
  },
  {
   "cell_type": "markdown",
   "metadata": {},
   "source": [
    "## OpenAI\n",
    "\n",
    "\n",
    "\n"
   ]
  },
  {
   "cell_type": "code",
   "execution_count": null,
   "metadata": {},
   "outputs": [],
   "source": [
    "from langchain_openai import ChatOpenAI\n",
    "from browser_use import Agent\n",
    "\n",
    "# Initialize the model\n",
    "llm = ChatOpenAI(\n",
    "    model=\"gpt-4o\",\n",
    "    temperature=0.0,\n",
    ")\n",
    "\n",
    "# Create agent with the model\n",
    "agent = Agent(\n",
    "    task=\"Your task here\",\n",
    "    llm=llm\n",
    ")"
   ]
  },
  {
   "cell_type": "markdown",
   "metadata": {},
   "source": [
    "##  Gemini\n",
    "\n"
   ]
  },
  {
   "cell_type": "code",
   "execution_count": null,
   "metadata": {},
   "outputs": [],
   "source": [
    "from langchain_google_genai import ChatGoogleGenerativeAI\n",
    "from browser_use import Agent\n",
    "from pydantic import SecretStr\n",
    "import os\n",
    "from dotenv import load_dotenv\n",
    "load_dotenv()\n",
    "\n",
    "api_key = os.getenv(\"GEMINI_API_KEY\")\n",
    "\n",
    "# Initialize the model\n",
    "llm = ChatGoogleGenerativeAI(model='gemini-2.0-flash-exp', api_key=SecretStr(os.getenv('GEMINI_API_KEY')))\n",
    "\n",
    "# Create agent with the model\n",
    "agent = Agent(\n",
    "    task=\"Your task here\",\n",
    "    llm=llm\n",
    ")"
   ]
  },
  {
   "cell_type": "markdown",
   "metadata": {},
   "source": [
    "## DeepSeek-V3\n",
    "\n"
   ]
  },
  {
   "cell_type": "code",
   "execution_count": null,
   "metadata": {},
   "outputs": [],
   "source": [
    "from langchain_openai import ChatOpenAI\n",
    "from browser_use import Agent\n",
    "from pydantic import SecretStr\n",
    "\n",
    "\n",
    "# Initialize the model\n",
    "llm=ChatOpenAI(base_url='https://api.deepseek.com/v1', model='deepseek-chat', api_key=SecretStr(api_key))\n",
    "\n",
    "# Create agent with the model\n",
    "agent = Agent(\n",
    "    task=\"Your task here\",\n",
    "    llm=llm,\n",
    "    use_vision=False\n",
    ")"
   ]
  },
  {
   "cell_type": "markdown",
   "metadata": {},
   "source": [
    "## Ollama\n",
    "\n"
   ]
  },
  {
   "cell_type": "code",
   "execution_count": 1,
   "metadata": {},
   "outputs": [
    {
     "name": "stdout",
     "output_type": "stream",
     "text": [
      "INFO     [browser_use] BrowserUse logging setup complete with level info\n",
      "INFO     [root] Anonymized telemetry enabled. See https://docs.browser-use.com/development/telemetry for more information.\n"
     ]
    },
    {
     "name": "stderr",
     "output_type": "stream",
     "text": [
      "/Users/tiankonguse-m3/miniconda3/envs/llm-study/lib/python3.12/site-packages/browser_use/agent/message_manager/views.py:59: LangChainBetaWarning: The function `load` is in beta. It is actively being worked on, so the API may change.\n",
      "  value['message'] = load(value['message'])\n"
     ]
    }
   ],
   "source": [
    "from langchain_ollama import ChatOllama\n",
    "from browser_use import Agent\n",
    "from pydantic import SecretStr\n",
    "\n",
    "\n",
    "# Initialize the model\n",
    "llm=ChatOllama(model=\"qeq-qwen-reason-tools:32b\", num_ctx=32000)\n",
    "\n",
    "# Create agent with the model\n",
    "agent = Agent(\n",
    "    task=\"Your task here\",\n",
    "    llm=llm\n",
    ")"
   ]
  }
 ],
 "metadata": {
  "kernelspec": {
   "display_name": "llm-study",
   "language": "python",
   "name": "python3"
  },
  "language_info": {
   "codemirror_mode": {
    "name": "ipython",
    "version": 3
   },
   "file_extension": ".py",
   "mimetype": "text/x-python",
   "name": "python",
   "nbconvert_exporter": "python",
   "pygments_lexer": "ipython3",
   "version": "3.12.9"
  }
 },
 "nbformat": 4,
 "nbformat_minor": 2
}
