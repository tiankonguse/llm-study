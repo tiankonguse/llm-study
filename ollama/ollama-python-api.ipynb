{
 "cells": [
  {
   "cell_type": "markdown",
   "metadata": {},
   "source": [
    "# 在 Python 中使用 Ollama API\n",
    "\n"
   ]
  },
  {
   "cell_type": "markdown",
   "metadata": {},
   "source": [
    "## 环境准备\n",
    "\n",
    "\n",
    "在开始使用 Python 与 Ollama API 交互之前，请确保您的开发环境满足以下条件：\n",
    "\n",
    "Python: 安装 Python 3.8 或更高版本。\n",
    "pip: 确保已安装 pip，Python 的包管理工具。\n",
    "ollama 库: 用于更方便地与 Ollama API 交互。安装命令如下：\n",
    "\n",
    "```bash\n",
    "pip install ollama\n",
    "```"
   ]
  },
  {
   "cell_type": "markdown",
   "metadata": {},
   "source": [
    "## 使用方法\n",
    "\n",
    "\n"
   ]
  },
  {
   "cell_type": "code",
   "execution_count": 1,
   "metadata": {},
   "outputs": [
    {
     "name": "stdout",
     "output_type": "stream",
     "text": [
      "答案很简单：\n",
      "\n",
      "因为地球的大气层中含有大量的氮氧化物（N2O）、二氧化碳（CO2）和其他有机气体。这些气体能够吸收太阳光线中的紫外线，特别是蓝色和红色的部分。通过这个过程，大气层被分离了，导致我们看到的天空颜色变为蓝色。\n",
      "\n",
      "但是，如果你去某些高海拔或远离城市的地区，你会发现天空颜色变成青灰色，这也不是因为大气中有更多的空气，而是因为太阳光线照射到地面时，会减少一些蓝色光线。\n",
      "答案很简单：\n",
      "\n",
      "因为地球的大气层中含有大量的氮氧化物（N2O）、二氧化碳（CO2）和其他有机气体。这些气体能够吸收太阳光线中的紫外线，特别是蓝色和红色的部分。通过这个过程，大气层被分离了，导致我们看到的天空颜色变为蓝色。\n",
      "\n",
      "但是，如果你去某些高海拔或远离城市的地区，你会发现天空颜色变成青灰色，这也不是因为大气中有更多的空气，而是因为太阳光线照射到地面时，会减少一些蓝色光线。\n"
     ]
    }
   ],
   "source": [
    "from ollama import chat\n",
    "from ollama import ChatResponse\n",
    "\n",
    "response: ChatResponse = chat(model='llama3.2', messages=[\n",
    "  {\n",
    "    'role': 'user',\n",
    "    'content': '为什么天空是蓝色的？',\n",
    "  },\n",
    "])\n",
    "print(response['message']['content'])\n",
    "\n",
    "print(response.message.content)"
   ]
  },
  {
   "cell_type": "markdown",
   "metadata": {},
   "source": [
    "## 流式响应\n",
    "\n",
    "\n",
    "可以通过设置 stream=True 启用响应流，使函数调用返回一个 Python 生成器，其中每个部分都是流中的一个对象。\n",
    "\n",
    "\n"
   ]
  },
  {
   "cell_type": "code",
   "execution_count": 2,
   "metadata": {},
   "outputs": [
    {
     "name": "stdout",
     "output_type": "stream",
     "text": [
      "这是一个古老的问题，科学家们已经有了解释。\n",
      "\n",
      "当太阳光线从天空进入眼睛时，我们可以看到其多个颜色，包括红、橙、黄、绿、蓝、紫和红。这些颜色都来自于大气中存在的不同成分，如氮氧化物(N2O)、二氧化碳(CO2)等。\n",
      "\n",
      "蓝色的部分主要来自于大气中的氮氧化物（N2O）。当太阳光线照射到大气时，氮氧化物与紫外线反应，产生一种名为紫外B的波长（约430-450纳米）的光。这个波长对人类眼睛最有吸引力。\n",
      "\n",
      "在大气中，由于氮和氧成分比例的差异，大部分太阳光线被滤掉了，只剩下蓝色和紫色的部分。因此，天空看起来是蓝色的。\n",
      "\n",
      "然而，这个解释并不是完全正确的，因为我们实际上看到的是一种叫做青绿色的颜色。这是因为大气中的其他成分，如二氧化硫、烟雾等，也会影响光线的颜色，使其变成青绿色。\n",
      "\n",
      "所以，天空看起来蓝色的原因，是由于氮氧化物在大气中反应产生紫外B波长所致，而不是大气中存在的所有成分都直接导致了这种效果。"
     ]
    }
   ],
   "source": [
    "from ollama import chat\n",
    "\n",
    "stream = chat(\n",
    "    model='llama3.2',\n",
    "    messages=[{'role': 'user', 'content': '为什么天空是蓝色的？'}],\n",
    "    stream=True,\n",
    ")\n",
    "\n",
    "for chunk in stream:\n",
    "  print(chunk['message']['content'], end='', flush=True)"
   ]
  },
  {
   "cell_type": "markdown",
   "metadata": {},
   "source": [
    "## 结构化输出\n",
    "\n",
    "普通输出（Unstructured Output）:直接生成自然语言文本。适合人类阅读，但不便于程序解析或自动化处理。\n",
    "\n",
    "\n",
    "结构化输出（Structured Output）:以 JSON 、 YAML 、 XML 或其他格式返回数据，使其更容易被机器解析和使用。适合 API 、自动化工作流和数据存储。\n",
    "\n",
    "\n",
    "结构化输出的优势\n",
    "（1）便于处理: 机器可以轻松提取特定字段，如 description 或 activity ，而无需 NLP 解析普通文本。\n",
    "（2）提高可控性: 结构化格式让开发者可以精确控制模型输出，避免冗长或不可预测的回答。\n",
    "（3）便于存储与分析: 结构化数据更适合存储到数据库中，方便查询和分析。\n",
    "\n",
    "\n"
   ]
  },
  {
   "cell_type": "code",
   "execution_count": 9,
   "metadata": {},
   "outputs": [
    {
     "name": "stdout",
     "output_type": "stream",
     "text": [
      "{'name': '华盛顿特区', 'population': 7028914, 'area': 670.2}\n",
      "name='华盛顿特区' population=7028914 area=670.2\n"
     ]
    }
   ],
   "source": [
    "from pydantic import BaseModel, Field\n",
    "from ollama import chat\n",
    "import json\n",
    "\n",
    "class CountryInfo(BaseModel):\n",
    "    name: str = Field(..., alias=\"name\")\n",
    "    population: int = Field(..., alias=\"population\")\n",
    "    area: float = Field(..., alias=\"area\")  \n",
    "\n",
    "\n",
    "response = chat(\n",
    "    model='llama3.2',\n",
    "    messages=[{\n",
    "        'role': 'user',\n",
    "        'content': \"请介绍美国的首都（capital）、人口(number)、占地面积(area)信息，并以 JSON 格式返回。\"\n",
    "                   \n",
    "    }],\n",
    "    format=\"json\",  \n",
    "    options={'temperature': 0}, \n",
    ")\n",
    "\n",
    "response_content = response[\"message\"][\"content\"]\n",
    "\n",
    "\n",
    "if not response_content:\n",
    "    raise ValueError(\"Ollama 返回的 JSON 为空\")\n",
    "\n",
    "json_response = json.loads(response_content)  \n",
    "print(json_response)\n",
    "\n",
    "friends_response = CountryInfo.model_validate(json_response)  \n",
    "print(friends_response)\n"
   ]
  },
  {
   "cell_type": "markdown",
   "metadata": {},
   "source": [
    "## API\n",
    "\n",
    "\n",
    "### 聊天\n",
    "\n",
    "\n",
    "```python\n",
    "ollama.chat(model='llama3.2', messages=[{'role': 'user', 'content': '为什么天空是蓝色的？'}])\n",
    "```\n",
    "\n",
    "\n",
    "### 生成\n",
    "\n",
    "```python\n",
    "ollama.generate(model='llama3.2', prompt='为什么天空是蓝色的？')\n",
    "```\n",
    "\n",
    "### 本地模型列表\n",
    "\n",
    "````python\n",
    "ollama.list()\n",
    "````\n",
    "\n",
    "\n",
    "### 显示模型信息\n",
    "\n",
    "```python\n",
    "ollama.show('llama3.2')\n",
    "```\n",
    "\n",
    "### 创建模型\n",
    "\n",
    "```python\n",
    "modelfile='''\n",
    "FROM llama3.2\n",
    "SYSTEM 你是超级马里奥兄弟中的马里奥。\n",
    "'''\n",
    "\n",
    "ollama.create(model='example', modelfile=modelfile)\n",
    "```\n",
    "\n",
    "\n",
    "### 复制模型\n",
    "\n",
    "\n",
    "```python\n",
    "ollama.copy('llama3.2', 'llama3.2-copy')\n",
    "```\n",
    "\n",
    "### 删除模型\n",
    "\n",
    "```python\n",
    "ollama.delete('llama3.2-copy')\n",
    "```\n",
    "\n",
    "\n",
    "### 拉取模型\n",
    "\n",
    "```python\n",
    "ollama.pull('llama3.2')\n",
    "```\n",
    "\n",
    "### 推送模型\n",
    "\n",
    "```python\n",
    "ollama.push('llama3.2')\n",
    "```\n",
    "\n",
    "### 生成嵌入\n",
    "\n",
    "```python\n",
    "ollama.embeddings(model='llama3.2', prompt='为什么天空是蓝色的？')\n",
    "\n",
    "# 批量生成embedding\n",
    "ollama.embed(model='llama3.1', input=['天空是蓝色的', '草是绿色的'])\n",
    "```\n",
    "\n",
    "### 进程\n",
    "\n",
    "```python\n",
    "ollama.ps()\n",
    "```"
   ]
  },
  {
   "cell_type": "markdown",
   "metadata": {},
   "source": [
    "## 自定义客户端\n",
    "\n",
    "\n",
    "\n",
    "\n",
    "可以通过通过 ollama 实例化 Client 或 AsyncClient 来创建自定义客户端。\n",
    "\n",
    "可以使用以下字段创建自定义客户端：\n",
    "\n",
    "\n",
    "- host: 要连接的 Ollama 主机\n",
    "- timeout: 请求超时时间\n",
    "\n",
    "### 同步客户端\n",
    "\n",
    "使用的是同步客户端 (Client) 意味着当你调用 `client.chat()` 方法时，程序会等待该请求完成并返回结果后才会继续执行后续代码。这种方式更直观、简单，适合于编写流程较为线性、不需要处理大量并发任务的应用。\n",
    "\n",
    "\n",
    "\n",
    "\n"
   ]
  },
  {
   "cell_type": "code",
   "execution_count": 10,
   "metadata": {},
   "outputs": [
    {
     "name": "stdout",
     "output_type": "stream",
     "text": [
      "model='llama3.2' created_at='2025-03-21T12:59:53.884166Z' done=True done_reason='stop' total_duration=9174215834 load_duration=777787584 prompt_eval_count=32 prompt_eval_duration=250000000 eval_count=400 eval_duration=8145000000 message=Message(role='assistant', content='因为我们的大气层是一种透明的气体混合体，它主要由二氧化碳、氮和氧组成。这些气体在不同 altitude 的密度变化下散发出光，形成的颜色就是我们所看到的天空颜色。\\n\\n1.  **日射线吸收**：大气中含有大量的二氧化碳，它可以从紫外线（UV）和蓝色光谱段中吸收，这是因为在这个范围内的光波与二氧化碳的分子摩尔质量相匹配，从而引起强烈的吸收效应。\\n2.  **散射效应**：当阳光照射到大气时，它会受到散射效应的影响。根据布里奇斯-马勒斯伯格定律，大气中的各个物质都有不同的吸收和反射率，这导致了不同颜色光波在进入人眼前的方式是不同的。蓝色的光波由于其短波长较小，更容易被大气中的分子吸收，从而散失。\\n3.  **地面反射**：虽然大气层的蓝色是我们看到的主要颜色，但我们也需要考虑到地面的反射影响。因为当阳光照射在地面上时，会将更多的红色和橙色光波反射回天空中，而这些光波由于其长波长较大，更容易通过大气层不被吸收。这意味着在高 altitude 的环境下，我们更容易看到蓝色。这一现象是我们所看到的天空主要为蓝色的原因之一。\\n\\n总而言之，天空主要是蓝色的，因为它与大量二氧化碳和其他物质的吸收效应以及地面反射光子的影响有关。', images=None, tool_calls=None)\n"
     ]
    }
   ],
   "source": [
    "from ollama import Client\n",
    "client = Client(\n",
    "  host='http://localhost:11434',\n",
    "  headers={'x-some-header': 'some-value'}\n",
    ")\n",
    "response = client.chat(model='llama3.2', messages=[\n",
    "  {\n",
    "    'role': 'user',\n",
    "    'content': '为什么天空是蓝色的？',\n",
    "  },\n",
    "])\n",
    "print(response)\n"
   ]
  },
  {
   "cell_type": "markdown",
   "metadata": {},
   "source": [
    "### 异步客户端\n",
    "\n",
    "这段代码使用了异步客户端 (AsyncClient) ，并且定义了一个异步函数 chat() 。\n",
    "通过await关键字，可以暂停该函数的执行直到 AsyncClient().chat() 请求完成，但在此期间不会阻塞其他操作。\n",
    "这对于需要高效率处理 I/O 操作（如网络请求）或希望同时执行多个任务的应用来说非常有用。此外，使用 asyncio.run(chat()) 来运行这个异步函数。\n",
    "\n"
   ]
  },
  {
   "cell_type": "code",
   "execution_count": 11,
   "metadata": {},
   "outputs": [
    {
     "name": "stdout",
     "output_type": "stream",
     "text": [
      "model='llama3.2' created_at='2025-03-21T13:00:53.796113Z' done=True done_reason='stop' total_duration=4186556291 load_duration=35345375 prompt_eval_count=32 prompt_eval_duration=213000000 eval_count=196 eval_duration=3936000000 message=Message(role='assistant', content='答案：因为我们看到的是大气中小分子的散射光的颜色，主要是由碳氧化物和氮氧化物等小分子在阳光紫外线照射下吸收后发出的黄绿色光的部分。\\n\\n\\u3000\\u3000我们知道，阳光中的紫外线（UV）能量在大气中被散射出来。但是在较长波段的光（如蓝色、绿色、红色等）上，我们观察到的蓝色的颜色主要是因为大气中存在的碳氧化物和氮氧化物等小分子吸收了紫外线能量后发出的黄绿色光的部分。\\n\\n\\u3000\\u3000当我们看到的蓝色光通过大气进入我们的眼睛时，我们感觉的是这片区域的蓝色颜色，这使得我们把这个蓝色视为天空的颜色。', images=None, tool_calls=None)\n"
     ]
    }
   ],
   "source": [
    "import asyncio\n",
    "from ollama import AsyncClient\n",
    "import nest_asyncio\n",
    "\n",
    "nest_asyncio.apply()\n",
    "\n",
    "async def chat():\n",
    "    message = {'role': 'user', 'content': '为什么天空是蓝色的？'}\n",
    "    response = await AsyncClient().chat(model='llama3.2', messages=[message])\n",
    "    print(response)\n",
    "\n",
    "asyncio.run(chat())\n"
   ]
  },
  {
   "cell_type": "markdown",
   "metadata": {},
   "source": [
    "设置 stream=True 修改函数以返回 Python 异步生成器：\n",
    "\n"
   ]
  },
  {
   "cell_type": "code",
   "execution_count": 12,
   "metadata": {},
   "outputs": [
    {
     "name": "stdout",
     "output_type": "stream",
     "text": [
      "答案很复杂，但主要原因是我们看到的天空色彩是由太阳光线和大气层中的气体组成的。\n",
      "\n",
      "**太阳光线**\n",
      "\n",
      "太阳光线是一种紫外线和可见光的组合。可见光的部分包括蓝、红、黄、绿等多个颜色，分别对应不同的波长（紫外线较短，红光较长）。在太阳光线中，蓝光占比约98%。\n",
      "\n",
      "**大气层**\n",
      "\n",
      "当太阳光线进入大气层时，会被散射和吸收。其中，最主要的吸收剂是氮氧化物(N2O3)和臭氧(O3)，它们吸收的波长范围包括可见蓝光。因此，大气层中的这些气体使得蓝色成为我们看到最明显的颜色。\n",
      "\n",
      "**为什么蓝空不蓝**\n",
      "\n",
      "虽然大气层中有很多气体吸收了太阳光线，但并没有完全消去蓝光。如果观察天空，我们会看到蓝色，因为大气层中的这部分蓝光仍然被散射出来，使得我们可以看到蓝色的颜色。\n",
      "\n",
      "**其他原因**\n",
      "\n",
      "还有一些其他因素也会影响我们的视觉体验，例如：\n",
      "\n",
      "* 反射：太阳光线在大气层中受到反射的作用，这可能会增加蓝色光的强度。\n",
      "* 视觉心理学：人类对颜色的选择性感知和视觉表达能力也会影响我们看到的天空颜色。\n",
      "\n",
      "总之，天空是蓝色的原因是太阳光线的组成、大气层中的气体吸收效应以及我们的视觉体验。"
     ]
    }
   ],
   "source": [
    "import asyncio\n",
    "from ollama import AsyncClient\n",
    "import nest_asyncio\n",
    "\n",
    "nest_asyncio.apply()\n",
    "async def chat():\n",
    "  message = {'role': 'user', 'content': '为什么天空是蓝色的？'}\n",
    "  async for part in await AsyncClient().chat(model='llama3.2', messages=[message], stream=True):\n",
    "    print(part['message']['content'], end='', flush=True)\n",
    "\n",
    "asyncio.run(chat())\n"
   ]
  },
  {
   "cell_type": "markdown",
   "metadata": {},
   "source": [
    "### 同步 & 异步客户端不同调用次数耗时对比测试\n",
    "\n",
    "下面的这段代码分别调用同步和异步客户端重复 test_num 次问答过程，对比所需要的总时间和单次时间，用户可以更改以下的参数进行测试：\n",
    "\n",
    "- test_messages: 测试数据\n",
    "- test_num: 测试次数\n",
    "- model_name: 测试模型\n",
    "\n"
   ]
  },
  {
   "cell_type": "code",
   "execution_count": 13,
   "metadata": {},
   "outputs": [
    {
     "name": "stdout",
     "output_type": "stream",
     "text": [
      "运行同步测试\n",
      "同步请求时间: 6.623319864273071\n",
      "同步请求时间: 3.462961196899414\n",
      "同步请求时间: 7.9237940311431885\n",
      "同步请求时间: 3.9149320125579834\n",
      "同步请求时间: 7.2147581577301025\n",
      "同步请求时间: 6.986761093139648\n",
      "同步请求时间: 4.196196794509888\n",
      "同步请求时间: 7.726733922958374\n",
      "同步请求时间: 7.706302165985107\n",
      "同步请求时间: 2.444819927215576\n",
      "同步测试平均时间: 5.82 秒\n",
      "运行异步测试\n",
      "异步请求时间: 14.708611011505127\n",
      "异步请求时间: 14.995337963104248\n",
      "异步请求时间: 15.598981142044067\n",
      "异步请求时间: 19.55816411972046\n",
      "异步请求时间: 28.92905592918396\n",
      "异步请求时间: 33.47827482223511\n",
      "异步请求时间: 34.252699851989746\n",
      "异步请求时间: 35.0913770198822\n",
      "异步请求时间: 42.221561670303345\n",
      "异步请求时间: 45.87859106063843\n",
      "异步测试平均时间: 4.59 秒\n"
     ]
    }
   ],
   "source": [
    "import time\n",
    "import asyncio\n",
    "from ollama import Client, AsyncClient\n",
    "import nest_asyncio\n",
    "\n",
    "# 应用nest_asyncio以支持Jupyter中的异步操作\n",
    "nest_asyncio.apply()\n",
    "\n",
    "# 初始化客户端\n",
    "client = Client(host='http://localhost:11434')\n",
    "async_client = AsyncClient(host='http://localhost:11434')\n",
    "\n",
    "\n",
    "# 同步请求处理函数\n",
    "def request_example(client, model_name, messages):\n",
    "    start_time = time.time()\n",
    "    try:\n",
    "        # 同步请求返回\n",
    "        response = client.chat(model=model_name, messages=messages)\n",
    "    except Exception as e:\n",
    "        print(f\"同步请求失败: {e}\")\n",
    "        response = None\n",
    "    end_time = time.time()\n",
    "    duration = end_time - start_time\n",
    "    print(f\"同步请求时间: {duration}\")\n",
    "    return response, duration\n",
    "\n",
    "# 异步请求处理函数\n",
    "async def async_request_example(client, model_name, messages):\n",
    "    start_time = time.time()\n",
    "    try:\n",
    "        # 异步请求返回\n",
    "        response = await client.chat(model=model_name, messages=messages)\n",
    "    except Exception as e:\n",
    "        print(f\"异步请求失败: {e}\")\n",
    "        response = None\n",
    "    end_time = time.time()\n",
    "    duration = end_time - start_time\n",
    "    print(f\"异步请求时间: {duration}\")\n",
    "    return response, duration\n",
    "\n",
    "# 异步请求测试函数\n",
    "async def async_client_test(test_num, model_name, messages):\n",
    "    tasks = [asyncio.create_task(async_request_example(async_client, model_name, messages)) \n",
    "             for _ in range(test_num)]\n",
    "    results= await asyncio.gather(*tasks)\n",
    "    return results\n",
    "\n",
    "# 运行同步测试\n",
    "def sync_test(model_name, messages, test_num):\n",
    "    total_time = 0\n",
    "    for i in range(test_num):\n",
    "        _, duration = request_example(client, model_name, messages)\n",
    "        total_time += duration\n",
    "    return total_time / test_num\n",
    "\n",
    "# 运行异步测试\n",
    "async def async_test(model_name, messages, test_num):\n",
    "    start_time = time.time()\n",
    "    await async_client_test(test_num, model_name, messages)\n",
    "    end_time = time.time()\n",
    "    return (end_time - start_time) / test_num\n",
    "\n",
    "\n",
    "# 准备测试数据\n",
    "test_messages = [{'role': 'user', 'content': '为什么天空是蓝色的？'}]\n",
    "test_num = 10\n",
    "model_name = 'llama3.2'\n",
    "\n",
    "# 运行同步测试并输出结果\n",
    "print(\"运行同步测试\")\n",
    "sync_avg_time = sync_test(model_name, test_messages, test_num)\n",
    "print(f\"同步测试平均时间: {sync_avg_time:.2f} 秒\")\n",
    "\n",
    "# 运行异步测试并输出结果\n",
    "print(\"运行异步测试\")\n",
    "async_avg_time = asyncio.run(async_test(model_name, test_messages, test_num))\n",
    "print(f\"异步测试平均时间: {async_avg_time:.2f} 秒\")\n"
   ]
  },
  {
   "cell_type": "markdown",
   "metadata": {},
   "source": [
    "## 错误\n",
    "\n",
    "如果请求返回错误状态或在流式传输时检测到错误，则会引发错误。\n"
   ]
  },
  {
   "cell_type": "code",
   "execution_count": 16,
   "metadata": {},
   "outputs": [
    {
     "name": "stdout",
     "output_type": "stream",
     "text": [
      "错误: model \"does-not-yet-exist\" not found, try pulling it first 404\n"
     ]
    }
   ],
   "source": [
    "import ollama\n",
    "\n",
    "model = 'does-not-yet-exist'\n",
    "\n",
    "try:\n",
    "  ollama.chat(model)\n",
    "except ollama.ResponseError as e:\n",
    "  print('错误:', e.error, e.status_code)"
   ]
  }
 ],
 "metadata": {
  "kernelspec": {
   "display_name": "llm-study",
   "language": "python",
   "name": "python3"
  },
  "language_info": {
   "codemirror_mode": {
    "name": "ipython",
    "version": 3
   },
   "file_extension": ".py",
   "mimetype": "text/x-python",
   "name": "python",
   "nbconvert_exporter": "python",
   "pygments_lexer": "ipython3",
   "version": "3.12.9"
  }
 },
 "nbformat": 4,
 "nbformat_minor": 2
}
