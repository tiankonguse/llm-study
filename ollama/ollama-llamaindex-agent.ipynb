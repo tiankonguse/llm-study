{
 "cells": [
  {
   "cell_type": "markdown",
   "metadata": {},
   "source": [
    "# 使用 LlamaIndex 实现本地 Agent\n",
    "\n",
    "https://github.com/datawhalechina/handy-ollama/tree/main/notebook/C7/LlamaIndex_Agent\n",
    "\n"
   ]
  },
  {
   "cell_type": "markdown",
   "metadata": {},
   "source": [
    "## 简介\n",
    "\n",
    "本文档介绍了如何使用 LlamaIndex 中的 ReActAgent 结合 Ollama 实现一个简单的本地 Agent。\n",
    "\n",
    "本文档中使用的 LLM 为 qwen2:0.5b 模型，由于不同模型调用 tools 的能力不同，可以自行尝试使用不同的模型实现 Agent。\n",
    "\n"
   ]
  },
  {
   "cell_type": "code",
   "execution_count": 1,
   "metadata": {},
   "outputs": [],
   "source": [
    "## 导入依赖\n",
    "\n",
    "from llama_index.core.tools import FunctionTool\n",
    "from llama_index.core.agent import ReActAgent\n",
    "from llama_index.llms.ollama import Ollama\n"
   ]
  },
  {
   "cell_type": "markdown",
   "metadata": {},
   "source": [
    "## 初始化 Agent 工具"
   ]
  },
  {
   "cell_type": "code",
   "execution_count": 2,
   "metadata": {},
   "outputs": [],
   "source": [
    "# Define tools\n",
    "def multiply(a: float, b: float) -> float:\n",
    "    \"\"\"Multiply two integers and return the result integer\"\"\"\n",
    "    return a * b\n",
    "\n",
    "# Create FunctionTool instances\n",
    "multiply_tool = FunctionTool.from_defaults(\n",
    "    fn=multiply,\n",
    "    name=\"MultiplyTool\",\n",
    "    description=\"A tool that multiplies two floats.\",\n",
    "    return_direct=True\n",
    ")"
   ]
  },
  {
   "cell_type": "markdown",
   "metadata": {},
   "source": [
    "## 初始化 LLM 和 Agent\n",
    "\n",
    "\n"
   ]
  },
  {
   "cell_type": "code",
   "execution_count": 6,
   "metadata": {},
   "outputs": [],
   "source": [
    "# Initialize LLM\n",
    "llm = Ollama(model=\"qwen2:7b\", request_timeout=30.0)\n",
    "\n",
    "# Initialize ReAct agent with tools\n",
    "agent = ReActAgent.from_tools([multiply_tool], llm=llm, verbose=True)"
   ]
  },
  {
   "cell_type": "markdown",
   "metadata": {},
   "source": [
    "## 进行对话\n",
    "\n"
   ]
  },
  {
   "cell_type": "code",
   "execution_count": 7,
   "metadata": {},
   "outputs": [
    {
     "name": "stdout",
     "output_type": "stream",
     "text": [
      "To calculate the product \\(2.3 \\times 4.8\\), you can follow these steps:\n",
      "\n",
      "Step 1: Ignore the decimal points and multiply as whole numbers.\n",
      "\\[23 \\times 48 = 1096\\]\n",
      "\n",
      "Step 2: Count the total number of digits to the right of the decimal points in both original numbers.\n",
      "In \\(2.3\\), there is one digit after the decimal point.\n",
      "In \\(4.8\\), there is also one digit after the decimal point.\n",
      "\n",
      "So, the sum of these two counts is:\n",
      "\\[1 + 1 = 2\\]\n",
      "\n",
      "Step 3: Place the decimal point in your answer so that there are a total of two digits to the right of it.\n",
      "\\[2.3 \\times 4.8 = 10.96\\]\n",
      "\n",
      "So, \\(2.3 \\times 4.8 = 10.96\\).\n"
     ]
    }
   ],
   "source": [
    "# direct response\n",
    "res_llm = llm.complete(\"What is 2.3 × 4.8 ? Calculate step by step\")\n",
    "print(res_llm)"
   ]
  },
  {
   "cell_type": "markdown",
   "metadata": {},
   "source": [
    "## LLM 调用 Agent 对话。"
   ]
  },
  {
   "cell_type": "code",
   "execution_count": 8,
   "metadata": {},
   "outputs": [
    {
     "name": "stdout",
     "output_type": "stream",
     "text": [
      "> Running step 1a9559f8-3af1-4d68-8bab-de5488eac62e. Step input: What is 2.3 × 4.8 ? Calculate step by step\n",
      "\u001b[1;3;38;5;200mThought: The current language of the user is: English. I need to use a tool to help me answer the question.\n",
      "Action: MultiplyTool\n",
      "Action Input: {'a': 2.3, 'b': 4.8}\n",
      "\u001b[0m\u001b[1;3;34mObservation: 11.04\n",
      "\u001b[0m"
     ]
    },
    {
     "data": {
      "text/plain": [
       "'11.04'"
      ]
     },
     "execution_count": 8,
     "metadata": {},
     "output_type": "execute_result"
    }
   ],
   "source": [
    "# use agent\n",
    "response = agent.chat(\"What is 2.3 × 4.8 ? Calculate step by step\")\n",
    "response.response"
   ]
  }
 ],
 "metadata": {
  "kernelspec": {
   "display_name": "llm-study",
   "language": "python",
   "name": "python3"
  },
  "language_info": {
   "codemirror_mode": {
    "name": "ipython",
    "version": 3
   },
   "file_extension": ".py",
   "mimetype": "text/x-python",
   "name": "python",
   "nbconvert_exporter": "python",
   "pygments_lexer": "ipython3",
   "version": "3.12.9"
  }
 },
 "nbformat": 4,
 "nbformat_minor": 2
}
