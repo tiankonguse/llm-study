{
 "cells": [
  {
   "cell_type": "markdown",
   "metadata": {},
   "source": [
    "# For Server Developers\n",
    "\n"
   ]
  },
  {
   "cell_type": "markdown",
   "metadata": {},
   "source": [
    "## Core MCP Concepts\n",
    "\n",
    "MCP servers can provide three main types of capabilities:\n",
    "\n",
    "- Resources: File-like data that can be read by clients (like API responses or file contents)\n",
    "- Tools: Functions that can be called by the LLM (with user approval)\n",
    "- Prompts: Pre-written templates that help users accomplish specific tasks"
   ]
  },
  {
   "cell_type": "markdown",
   "metadata": {},
   "source": [
    "## environment\n",
    "\n",
    "\n",
    "```bash\n",
    "\n",
    "conda activate\n",
    "conda activate llm-study \n",
    "\n",
    "# langchain_community\n",
    "pip install \"mcp[cli]\" httpx\n",
    "```"
   ]
  },
  {
   "cell_type": "markdown",
   "metadata": {},
   "source": [
    "## Importing packages and setting up the instance\n",
    "\n",
    "The FastMCP class uses Python type hints and docstrings to automatically generate tool definitions, making it easy to create and maintain MCP tools."
   ]
  },
  {
   "cell_type": "code",
   "execution_count": 1,
   "metadata": {},
   "outputs": [],
   "source": [
    "from typing import Any\n",
    "import httpx\n",
    "from mcp.server.fastmcp import FastMCP\n",
    "\n",
    "# Initialize FastMCP server\n",
    "mcp = FastMCP(\"weather\")\n",
    "\n",
    "# Constants\n",
    "NWS_API_BASE = \"https://api.weather.gov\"\n",
    "USER_AGENT = \"weather-app/1.0\""
   ]
  },
  {
   "cell_type": "markdown",
   "metadata": {},
   "source": [
    "## Helper functions\n",
    "\n"
   ]
  },
  {
   "cell_type": "code",
   "execution_count": 2,
   "metadata": {},
   "outputs": [],
   "source": [
    "async def make_nws_request(url: str) -> dict[str, Any] | None:\n",
    "    \"\"\"Make a request to the NWS API with proper error handling.\"\"\"\n",
    "    headers = {\n",
    "        \"User-Agent\": USER_AGENT,\n",
    "        \"Accept\": \"application/geo+json\"\n",
    "    }\n",
    "    async with httpx.AsyncClient() as client:\n",
    "        try:\n",
    "            response = await client.get(url, headers=headers, timeout=30.0)\n",
    "            response.raise_for_status()\n",
    "            return response.json()\n",
    "        except Exception:\n",
    "            return None\n",
    "\n",
    "def format_alert(feature: dict) -> str:\n",
    "    \"\"\"Format an alert feature into a readable string.\"\"\"\n",
    "    props = feature[\"properties\"]\n",
    "    return f\"\"\"\n",
    "Event: {props.get('event', 'Unknown')}\n",
    "Area: {props.get('areaDesc', 'Unknown')}\n",
    "Severity: {props.get('severity', 'Unknown')}\n",
    "Description: {props.get('description', 'No description available')}\n",
    "Instructions: {props.get('instruction', 'No specific instructions provided')}\n",
    "\"\"\""
   ]
  },
  {
   "cell_type": "markdown",
   "metadata": {},
   "source": [
    "## Implementing tool execution"
   ]
  },
  {
   "cell_type": "code",
   "execution_count": 3,
   "metadata": {},
   "outputs": [],
   "source": [
    "@mcp.tool()\n",
    "async def get_alerts(state: str) -> str:\n",
    "    \"\"\"Get weather alerts for a US state.\n",
    "\n",
    "    Args:\n",
    "        state: Two-letter US state code (e.g. CA, NY)\n",
    "    \"\"\"\n",
    "    url = f\"{NWS_API_BASE}/alerts/active/area/{state}\"\n",
    "    data = await make_nws_request(url)\n",
    "\n",
    "    if not data or \"features\" not in data:\n",
    "        return \"Unable to fetch alerts or no alerts found.\"\n",
    "\n",
    "    if not data[\"features\"]:\n",
    "        return \"No active alerts for this state.\"\n",
    "\n",
    "    alerts = [format_alert(feature) for feature in data[\"features\"]]\n",
    "    return \"\\n---\\n\".join(alerts)\n",
    "\n",
    "@mcp.tool()\n",
    "async def get_forecast(latitude: float, longitude: float) -> str:\n",
    "    \"\"\"Get weather forecast for a location.\n",
    "\n",
    "    Args:\n",
    "        latitude: Latitude of the location\n",
    "        longitude: Longitude of the location\n",
    "    \"\"\"\n",
    "    # First get the forecast grid endpoint\n",
    "    points_url = f\"{NWS_API_BASE}/points/{latitude},{longitude}\"\n",
    "    points_data = await make_nws_request(points_url)\n",
    "\n",
    "    if not points_data:\n",
    "        return \"Unable to fetch forecast data for this location.\"\n",
    "\n",
    "    # Get the forecast URL from the points response\n",
    "    forecast_url = points_data[\"properties\"][\"forecast\"]\n",
    "    forecast_data = await make_nws_request(forecast_url)\n",
    "\n",
    "    if not forecast_data:\n",
    "        return \"Unable to fetch detailed forecast.\"\n",
    "\n",
    "    # Format the periods into a readable forecast\n",
    "    periods = forecast_data[\"properties\"][\"periods\"]\n",
    "    forecasts = []\n",
    "    for period in periods[:5]:  # Only show next 5 periods\n",
    "        forecast = f\"\"\"\n",
    "{period['name']}:\n",
    "Temperature: {period['temperature']}°{period['temperatureUnit']}\n",
    "Wind: {period['windSpeed']} {period['windDirection']}\n",
    "Forecast: {period['detailedForecast']}\n",
    "\"\"\"\n",
    "        forecasts.append(forecast)\n",
    "\n",
    "    return \"\\n---\\n\".join(forecasts)"
   ]
  },
  {
   "cell_type": "markdown",
   "metadata": {},
   "source": [
    "## Running the server"
   ]
  },
  {
   "cell_type": "code",
   "execution_count": 4,
   "metadata": {},
   "outputs": [
    {
     "ename": "RuntimeError",
     "evalue": "Already running asyncio in this thread",
     "output_type": "error",
     "traceback": [
      "\u001b[31m---------------------------------------------------------------------------\u001b[39m",
      "\u001b[31mRuntimeError\u001b[39m                              Traceback (most recent call last)",
      "\u001b[36mCell\u001b[39m\u001b[36m \u001b[39m\u001b[32mIn[4]\u001b[39m\u001b[32m, line 3\u001b[39m\n\u001b[32m      1\u001b[39m \u001b[38;5;28;01mif\u001b[39;00m \u001b[34m__name__\u001b[39m == \u001b[33m\"\u001b[39m\u001b[33m__main__\u001b[39m\u001b[33m\"\u001b[39m:\n\u001b[32m      2\u001b[39m     \u001b[38;5;66;03m# Initialize and run the server\u001b[39;00m\n\u001b[32m----> \u001b[39m\u001b[32m3\u001b[39m     \u001b[43mmcp\u001b[49m\u001b[43m.\u001b[49m\u001b[43mrun\u001b[49m\u001b[43m(\u001b[49m\u001b[43mtransport\u001b[49m\u001b[43m=\u001b[49m\u001b[33;43m'\u001b[39;49m\u001b[33;43mstdio\u001b[39;49m\u001b[33;43m'\u001b[39;49m\u001b[43m)\u001b[49m\n",
      "\u001b[36mFile \u001b[39m\u001b[32m~/miniconda3/envs/llm-study/lib/python3.12/site-packages/mcp/server/fastmcp/server.py:159\u001b[39m, in \u001b[36mFastMCP.run\u001b[39m\u001b[34m(self, transport)\u001b[39m\n\u001b[32m    156\u001b[39m     \u001b[38;5;28;01mraise\u001b[39;00m \u001b[38;5;167;01mValueError\u001b[39;00m(\u001b[33mf\u001b[39m\u001b[33m\"\u001b[39m\u001b[33mUnknown transport: \u001b[39m\u001b[38;5;132;01m{\u001b[39;00mtransport\u001b[38;5;132;01m}\u001b[39;00m\u001b[33m\"\u001b[39m)\n\u001b[32m    158\u001b[39m \u001b[38;5;28;01mif\u001b[39;00m transport == \u001b[33m\"\u001b[39m\u001b[33mstdio\u001b[39m\u001b[33m\"\u001b[39m:\n\u001b[32m--> \u001b[39m\u001b[32m159\u001b[39m     \u001b[43manyio\u001b[49m\u001b[43m.\u001b[49m\u001b[43mrun\u001b[49m\u001b[43m(\u001b[49m\u001b[38;5;28;43mself\u001b[39;49m\u001b[43m.\u001b[49m\u001b[43mrun_stdio_async\u001b[49m\u001b[43m)\u001b[49m\n\u001b[32m    160\u001b[39m \u001b[38;5;28;01melse\u001b[39;00m:  \u001b[38;5;66;03m# transport == \"sse\"\u001b[39;00m\n\u001b[32m    161\u001b[39m     anyio.run(\u001b[38;5;28mself\u001b[39m.run_sse_async)\n",
      "\u001b[36mFile \u001b[39m\u001b[32m~/miniconda3/envs/llm-study/lib/python3.12/site-packages/anyio/_core/_eventloop.py:59\u001b[39m, in \u001b[36mrun\u001b[39m\u001b[34m(func, backend, backend_options, *args)\u001b[39m\n\u001b[32m     57\u001b[39m     \u001b[38;5;28;01mpass\u001b[39;00m\n\u001b[32m     58\u001b[39m \u001b[38;5;28;01melse\u001b[39;00m:\n\u001b[32m---> \u001b[39m\u001b[32m59\u001b[39m     \u001b[38;5;28;01mraise\u001b[39;00m \u001b[38;5;167;01mRuntimeError\u001b[39;00m(\u001b[33mf\u001b[39m\u001b[33m\"\u001b[39m\u001b[33mAlready running \u001b[39m\u001b[38;5;132;01m{\u001b[39;00masynclib_name\u001b[38;5;132;01m}\u001b[39;00m\u001b[33m in this thread\u001b[39m\u001b[33m\"\u001b[39m)\n\u001b[32m     61\u001b[39m \u001b[38;5;28;01mtry\u001b[39;00m:\n\u001b[32m     62\u001b[39m     async_backend = get_async_backend(backend)\n",
      "\u001b[31mRuntimeError\u001b[39m: Already running asyncio in this thread"
     ]
    }
   ],
   "source": [
    "if __name__ == \"__main__\":\n",
    "    # Initialize and run the server\n",
    "    mcp.run(transport='stdio')"
   ]
  },
  {
   "cell_type": "markdown",
   "metadata": {},
   "source": [
    "## What’s happening under the hood\n",
    "\n",
    "When you ask a question:\n",
    "\n",
    "- The client sends your question to Claude\n",
    "- Claude analyzes the available tools and decides which one(s) to use\n",
    "- The client executes the chosen tool(s) through the MCP server\n",
    "- The results are sent back to Claude\n",
    "- Claude formulates a natural language response\n",
    "- The response is displayed to you!\n",
    "\n"
   ]
  }
 ],
 "metadata": {
  "kernelspec": {
   "display_name": "llm-study",
   "language": "python",
   "name": "python3"
  },
  "language_info": {
   "codemirror_mode": {
    "name": "ipython",
    "version": 3
   },
   "file_extension": ".py",
   "mimetype": "text/x-python",
   "name": "python",
   "nbconvert_exporter": "python",
   "pygments_lexer": "ipython3",
   "version": "3.12.9"
  }
 },
 "nbformat": 4,
 "nbformat_minor": 2
}
