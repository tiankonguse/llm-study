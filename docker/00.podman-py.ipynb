{
 "cells": [
  {
   "cell_type": "markdown",
   "metadata": {},
   "source": [
    "# podman-py\n",
    "\n",
    "https://github.com/containers/podman-py\n",
    "https://podman-py.readthedocs.io/en/latest/\n",
    "\n",
    "## Installation\n",
    "\n",
    "```bash\n",
    "pip install podman\n",
    "```\n",
    "\n",
    "\n"
   ]
  },
  {
   "cell_type": "code",
   "execution_count": 3,
   "metadata": {},
   "outputs": [
    {
     "name": "stdout",
     "output_type": "stream",
     "text": [
      "[<Container: 0e841009851d>, <Container: 1483f36c8574>]\n"
     ]
    }
   ],
   "source": [
    "import docker\n",
    "\n",
    "client = docker.DockerClient(base_url='unix:///var/run/docker.sock')  # Podman 会模拟 Docker 的 API\n",
    "containers = client.containers.list()\n",
    "print(containers)\n",
    "\n"
   ]
  },
  {
   "cell_type": "code",
   "execution_count": 4,
   "metadata": {},
   "outputs": [
    {
     "data": {
      "text/plain": [
       "[<Container: 0e841009851d>, <Container: 1483f36c8574>]"
      ]
     },
     "execution_count": 4,
     "metadata": {},
     "output_type": "execute_result"
    }
   ],
   "source": [
    "import docker\n",
    "client = docker.from_env()\n",
    "\n",
    "client.containers.list()"
   ]
  }
 ],
 "metadata": {
  "kernelspec": {
   "display_name": "llm-study",
   "language": "python",
   "name": "python3"
  },
  "language_info": {
   "codemirror_mode": {
    "name": "ipython",
    "version": 3
   },
   "file_extension": ".py",
   "mimetype": "text/x-python",
   "name": "python",
   "nbconvert_exporter": "python",
   "pygments_lexer": "ipython3",
   "version": "3.12.9"
  }
 },
 "nbformat": 4,
 "nbformat_minor": 2
}
